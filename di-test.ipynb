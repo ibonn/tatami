{
 "cells": [
  {
   "cell_type": "code",
   "execution_count": null,
   "id": "6afae825",
   "metadata": {},
   "outputs": [],
   "source": [
    "from typing import Annotated, Optional, Callable, overload, Union, TypeVar, get_args, get_origin, Any\n",
    "from enum import Enum\n",
    "from functools import wraps, partial\n",
    "from dataclasses import dataclass\n",
    "import inspect\n",
    "\n",
    "class Scope(Enum):\n",
    "    SINGLETON = 'singleton'\n",
    "    REQUEST = 'request'\n",
    "\n",
    "T = TypeVar('T')\n",
    "\n",
    "@dataclass\n",
    "class InjectableMetadata:\n",
    "    scope: Scope\n",
    "    singleton: Optional[T] = None\n",
    "\n",
    "Injectable = TypeVar('Injectable', bound=InjectableMetadata)\n",
    "\n",
    "class TatamiInternals:\n",
    "    # Funny little reference to React\n",
    "    __TATAMI_INTERNALS_DO_NOT_USE_OR_YOU_WILL_BE_FIRED: Injectable\n",
    "\n",
    "ClassWithInternals = TypeVar('ClassWithInternals', bound=TatamiInternals)\n",
    "\n",
    "__TATAMI_INTERNALS_DO_NOT_USE_OR_YOU_WILL_BE_FIRED = '__TATAMI_INTERNALS_DO_NOT_USE_OR_YOU_WILL_BE_FIRED'\n",
    "\n",
    "\n",
    "class Inject:\n",
    "    def __init__(self, factory: Optional[Callable] = None, scope: Scope = Scope.SINGLETON):\n",
    "        if factory is not None:\n",
    "            factory = inject(factory)\n",
    "        \n",
    "        self.scope = scope\n",
    "        self.factory = factory\n",
    "\n",
    "@overload\n",
    "def injectable(cls: type[T]) -> T:\n",
    "    ...\n",
    "\n",
    "@overload\n",
    "def injectable(scope: Scope = Scope.SINGLETON) -> type:\n",
    "    ...\n",
    "\n",
    "@overload\n",
    "def injectable(*, scope: Scope = Scope.SINGLETON) -> type:\n",
    "    ...\n",
    "\n",
    "def injectable(scope_or_cls: Optional[Union[Scope, type]] = None, scope: Scope = Scope.SINGLETON) -> type:\n",
    "    def decorator(cls: ClassWithInternals, scope: Scope = Scope.SINGLETON) -> ClassWithInternals:\n",
    "        # Add metadata to the class\n",
    "        cls.__TATAMI_INTERNALS_DO_NOT_USE_OR_YOU_WILL_BE_FIRED = InjectableMetadata(scope=scope)\n",
    "        \n",
    "        # Inject into its __init__ method\n",
    "        cls.__init__ = inject(cls.__init__)\n",
    "\n",
    "        return cls\n",
    "    \n",
    "    # @injectable (no parentheses, no arguments)\n",
    "    if isinstance(scope_or_cls, type):\n",
    "        return decorator(scope_or_cls)\n",
    "    \n",
    "    # @injectable() or @injectable(Scope.SINGLETON)\n",
    "    scope = scope_or_cls if isinstance(scope_or_cls, Scope) else scope\n",
    "    return partial(decorator, scope=scope)\n",
    "\n",
    "\n",
    "def is_tatami_object(cls: type) -> bool:\n",
    "    return hasattr(cls, __TATAMI_INTERNALS_DO_NOT_USE_OR_YOU_WILL_BE_FIRED)\n",
    "\n",
    "def get_tatami_metadata(cls: type):\n",
    "    return getattr(cls, __TATAMI_INTERNALS_DO_NOT_USE_OR_YOU_WILL_BE_FIRED)\n",
    "\n",
    "def is_injectable(cls: type) -> bool:\n",
    "    return (\n",
    "            is_tatami_object(cls) and isinstance(getattr(cls, __TATAMI_INTERNALS_DO_NOT_USE_OR_YOU_WILL_BE_FIRED), InjectableMetadata)  # For decorated injectables\n",
    "        ) or (\n",
    "            get_origin(cls) is Annotated and isinstance(get_args(cls)[1], Inject)   # For explicitly annotated injectables -> Annotated[T, Inject()]\n",
    "        )\n",
    "\n",
    "def _inject_object_instance(t: type):\n",
    "    metadata: InjectableMetadata = getattr(t, __TATAMI_INTERNALS_DO_NOT_USE_OR_YOU_WILL_BE_FIRED)\n",
    "    if metadata.scope == Scope.SINGLETON:\n",
    "        if metadata.singleton is None:\n",
    "            metadata.singleton = t()\n",
    "        return metadata.singleton\n",
    "    \n",
    "    return t()\n",
    "\n",
    "def _inject_instance_depending_on_scope(name: str, type_ :type, scope: Scope, injected: dict[str, Any], non_singletons: dict[str, Callable]):\n",
    "    if scope == Scope.SINGLETON:\n",
    "        injected[name] = _inject_object_instance(type_)\n",
    "    else:\n",
    "        non_singletons[name] = lambda t=type_: _inject_object_instance(t)\n",
    "    \n",
    "\n",
    "def inject(fn: T) -> T:\n",
    "    signature = inspect.signature(fn)\n",
    "\n",
    "    injected = {}\n",
    "    non_singletons = {}\n",
    "\n",
    "    for parameter in signature.parameters.values():\n",
    "        if is_injectable(parameter.annotation):\n",
    "            if is_tatami_object(parameter.annotation):\n",
    "                metadata = get_tatami_metadata(parameter.annotation)\n",
    "                _inject_instance_depending_on_scope(parameter.name, parameter.annotation, metadata.scope, injected, non_singletons)\n",
    "            else:\n",
    "\n",
    "                target_type, inject_object = get_args(parameter.annotation)\n",
    "\n",
    "                if inject_object.factory is None:\n",
    "                    # Try injecting the type, it might be an injectable class (same as above) but explicitly declared\n",
    "                    if is_injectable(target_type):\n",
    "                        _inject_instance_depending_on_scope(parameter.name, target_type, target_type.scope, injected, non_singletons)\n",
    "                    # If it is not, raise an exception\n",
    "                    else:\n",
    "                        raise TypeError(f'Cannot inject object of type {target_type}')\n",
    "                else:\n",
    "                    # Here singletons are injected only\n",
    "                    if inject_object.scope == Scope.SINGLETON:\n",
    "                        injected[parameter.name] = inject_object.factory()\n",
    "                    else:\n",
    "                        non_singletons[parameter.name] = inject_object.factory\n",
    "            \n",
    "\n",
    "    def injected_fn(*args, **kwargs):\n",
    "        for name, factory in non_singletons.items():\n",
    "            injected[name] = factory()\n",
    "        return fn(*args, **{**kwargs, **injected})\n",
    "        \n",
    "    return wraps(fn)(injected_fn)"
   ]
  },
  {
   "cell_type": "code",
   "execution_count": 2,
   "id": "7b1df995",
   "metadata": {},
   "outputs": [
    {
     "data": {
      "text/plain": [
       "InjectableMetadata(scope=<Scope.REQUEST: 'request'>, singleton=None)"
      ]
     },
     "execution_count": 2,
     "metadata": {},
     "output_type": "execute_result"
    }
   ],
   "source": [
    "import random\n",
    "\n",
    "@injectable(scope=Scope.REQUEST)\n",
    "class Test:\n",
    "    def __init__(self, number: Annotated[int, Inject(factory=lambda: random.randint(1, 100), scope=Scope.REQUEST)]):\n",
    "        self.greet = f'hi from test with number {number}!'\n",
    "\n",
    "def func_a() -> str:\n",
    "    return 'INJECTION'\n",
    "\n",
    "def func_b(injection_a: Annotated[str, Inject(factory=func_a)]):\n",
    "    return f'A DEPENDENCY {injection_a}'.lower()\n",
    "\n",
    "def func_c(injection: Annotated[str, Inject(factory=func_b)], test: Test):\n",
    "    return f'THIS IS {injection}: {test.greet}'.lower()\n",
    "\n",
    "\n",
    "Test.__TATAMI_INTERNALS_DO_NOT_USE_OR_YOU_WILL_BE_FIRED"
   ]
  },
  {
   "cell_type": "code",
   "execution_count": 3,
   "id": "88ca65af",
   "metadata": {},
   "outputs": [
    {
     "data": {
      "text/plain": [
       "True"
      ]
     },
     "execution_count": 3,
     "metadata": {},
     "output_type": "execute_result"
    }
   ],
   "source": [
    "is_injectable(Test)"
   ]
  },
  {
   "cell_type": "code",
   "execution_count": 4,
   "id": "38da10fd",
   "metadata": {},
   "outputs": [],
   "source": [
    "func_c = inject(func_c)"
   ]
  },
  {
   "cell_type": "code",
   "execution_count": 5,
   "id": "f422252b",
   "metadata": {},
   "outputs": [
    {
     "data": {
      "text/plain": [
       "'this is a dependency injection: hi from test with number 44!'"
      ]
     },
     "execution_count": 5,
     "metadata": {},
     "output_type": "execute_result"
    }
   ],
   "source": [
    "func_c()"
   ]
  }
 ],
 "metadata": {
  "kernelspec": {
   "display_name": ".venv",
   "language": "python",
   "name": "python3"
  },
  "language_info": {
   "codemirror_mode": {
    "name": "ipython",
    "version": 3
   },
   "file_extension": ".py",
   "mimetype": "text/x-python",
   "name": "python",
   "nbconvert_exporter": "python",
   "pygments_lexer": "ipython3",
   "version": "3.13.1"
  }
 },
 "nbformat": 4,
 "nbformat_minor": 5
}
